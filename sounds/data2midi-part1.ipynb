{
 "cells": [
  {
   "cell_type": "markdown",
   "metadata": {},
   "source": [
    "# Sonification: Convert data to MIDI (Part 1)\n",
    "This is a simple example of parameter mapping sonification in which discrete data points are mapped to musical notes. You can think of this as a musical scatter plot with time being the x-axis and musical pitch being the y-axis. This technique will likely be more intuitive when applied to time series data (since the 'x-axis' already indicates time) but it can be used no matter what the data on each axis represent. This is very similar to what can be done with software like [TwoTone](https://twotone.io) but of course it will be much more flexible when you do it yourself!  \n",
    "\n",
    "As an example, we will recreate a version of the sonification method used in [Moon Impacts](www.system-sounds.com/moon-impacts/). We will start with a list of the lunar impact craters that are bigger than 10km across that have age estimates. This data comes from a paper by our friend Sara who discovered an interesting uptick in the impact rate about 290 million years ago [(Mazrouei et al 2019)](https://www.science.org/doi/10.1126/science.aar4058). The sonification will allow us to hear the rhythm of these large impacts over the last billion years. We'll map the crater diameters to pitch and velocity (a combinaiton of volume and intensity) so we can hear the distribution of impact sizes over time.\n",
    "\n",
    "<br>\n",
    "<div> <img src=\"figures/mapping.jpg\" alt=\"Drawing\" width=\"700\"/></div>\n",
    "<br>\n",
    "\n",
    "The output of this notebook will be a MIDI file (.mid) which can be opened in any DAW (digital audio workstation) where you'll be able to choose any intrument or sound you want. \n",
    "\n",
    "The code is presented in many small steps with figures to be more accessible to beginners. If you're new to jupyter, you might want to check out [Jupyter notebook shortcuts](https://towardsdatascience.com/jypyter-notebook-shortcuts-bf0101a98330). If you're more advanced, you can start from a streamlined version of the algorithm that has been written as a single python script. \n",
    "\n",
    "In [part 2](https://astromattrusso.gumroad.com/l/data2music-part2), we'll go beyond pitch and velocity and will learn how to use data to control a vastly greater range of audio/musical parameters. \n"
   ]
  },
  {
   "cell_type": "markdown",
   "metadata": {},
   "source": [
    "## 1) Load data (.csv file)"
   ]
  },
  {
   "cell_type": "code",
   "execution_count": 1,
   "metadata": {},
   "outputs": [],
   "source": [
    "#In the Command line:\n",
    "# brew install --cask anaconda \n",
    "# conda init\n",
    "# conda activate\n",
    "# conda install ipython numpy pandas matplotlib\n",
    "# pip install audiolazy midiutil pygame"
   ]
  },
  {
   "cell_type": "code",
   "execution_count": null,
   "metadata": {},
   "outputs": [],
   "source": [
    "import pandas as pd   #import library for loading data, https://pypi.org/project/pandas/\n",
    "import matplotlib.pylab as plt  #import library for plotting, https://pypi.org/project/matplotlib/\n",
    "from midiutil import MIDIFile #import library to make midi file, https://midiutil.readthedocs.io/en/1.2.1/\n",
    "import sys \n",
    "import pygame #import library for playing midi files, https://pypi.org/project/pygame/\n",
    "from audiolazy import str2midi #import function to convert note names to midi numbers (could also use: midi2str, str2freq, freq2str,freq2midi,midi2freq) https://pypi.org/project/audiolazy/"
   ]
  },
  {
   "cell_type": "code",
   "execution_count": 2,
   "metadata": {},
   "outputs": [
    {
     "name": "stdout",
     "output_type": "stream",
     "text": [
      "111 impacts\n"
     ]
    },
    {
     "data": {
      "text/html": [
       "<div>\n",
       "<style scoped>\n",
       "    .dataframe tbody tr th:only-of-type {\n",
       "        vertical-align: middle;\n",
       "    }\n",
       "\n",
       "    .dataframe tbody tr th {\n",
       "        vertical-align: top;\n",
       "    }\n",
       "\n",
       "    .dataframe thead th {\n",
       "        text-align: right;\n",
       "    }\n",
       "</style>\n",
       "<table border=\"1\" class=\"dataframe\">\n",
       "  <thead>\n",
       "    <tr style=\"text-align: right;\">\n",
       "      <th></th>\n",
       "      <th>names</th>\n",
       "      <th>longitude</th>\n",
       "      <th>latitude</th>\n",
       "      <th>diameter</th>\n",
       "      <th>age</th>\n",
       "    </tr>\n",
       "  </thead>\n",
       "  <tbody>\n",
       "    <tr>\n",
       "      <th>60</th>\n",
       "      <td>Mosting A</td>\n",
       "      <td>354.80469</td>\n",
       "      <td>-3.22070</td>\n",
       "      <td>12.7</td>\n",
       "      <td>1324</td>\n",
       "    </tr>\n",
       "    <tr>\n",
       "      <th>50</th>\n",
       "      <td>NaN</td>\n",
       "      <td>262.67029</td>\n",
       "      <td>43.65850</td>\n",
       "      <td>13.6</td>\n",
       "      <td>1026</td>\n",
       "    </tr>\n",
       "    <tr>\n",
       "      <th>45</th>\n",
       "      <td>NaN</td>\n",
       "      <td>79.73330</td>\n",
       "      <td>22.83180</td>\n",
       "      <td>14.3</td>\n",
       "      <td>993</td>\n",
       "    </tr>\n",
       "    <tr>\n",
       "      <th>2</th>\n",
       "      <td>King</td>\n",
       "      <td>120.49220</td>\n",
       "      <td>4.93750</td>\n",
       "      <td>76.2</td>\n",
       "      <td>992</td>\n",
       "    </tr>\n",
       "    <tr>\n",
       "      <th>41</th>\n",
       "      <td>Hume Z</td>\n",
       "      <td>90.41211</td>\n",
       "      <td>-3.62497</td>\n",
       "      <td>15.0</td>\n",
       "      <td>981</td>\n",
       "    </tr>\n",
       "  </tbody>\n",
       "</table>\n",
       "</div>"
      ],
      "text/plain": [
       "        names  longitude  latitude  diameter   age\n",
       "60  Mosting A  354.80469  -3.22070      12.7  1324\n",
       "50        NaN  262.67029  43.65850      13.6  1026\n",
       "45        NaN   79.73330  22.83180      14.3   993\n",
       "2        King  120.49220   4.93750      76.2   992\n",
       "41     Hume Z   90.41211  -3.62497      15.0   981"
      ]
     },
     "execution_count": 2,
     "metadata": {},
     "output_type": "execute_result"
    }
   ],
   "source": [
    "filename = 'lunarCraterAges'  #name of csv data file\n",
    "\n",
    "df = pd.read_csv('./data/' + filename + '.csv')  #load data as a pandas dataframe\n",
    "#df = df[(df['diameter'] >= 20)] #filter data if you like (for example, only craters larger than 20km)\n",
    "\n",
    "df = df.sort_values(by=['age'], ascending=False) #sort data from oldest to youngest (optional, doesn't affect the sonification)\n",
    "\n",
    "n_impacts = len(df)\n",
    "print(n_impacts, 'impacts')\n",
    "\n",
    "df.head() #take a look at first 5 rows\n",
    "#df.tail() #take a look at last 5 rows"
   ]
  },
  {
   "cell_type": "markdown",
   "metadata": {},
   "source": [
    "## 2) Plot data"
   ]
  },
  {
   "cell_type": "code",
   "execution_count": 3,
   "metadata": {},
   "outputs": [
    {
     "data": {
      "text/plain": [
       "<Figure size 640x480 with 1 Axes>"
      ]
     },
     "metadata": {},
     "output_type": "display_data"
    },
    {
     "data": {
      "text/plain": [
       "<Figure size 640x480 with 1 Axes>"
      ]
     },
     "metadata": {},
     "output_type": "display_data"
    }
   ],
   "source": [
    "ages = df['age'].values    #this is a numpy array (not a list), you can do mathematical operations directly on the object\n",
    "diameters = df['diameter'].values \n",
    "\n",
    "plt.scatter(ages, diameters, s=diameters)\n",
    "plt.xlabel('age [Myrs]')\n",
    "plt.ylabel('diameter [km]')\n",
    "plt.show()\n",
    "\n",
    "times_myrs = max(ages) - ages  #measure time from oldest crater (first impact) in data\n",
    "\n",
    "plt.scatter(times_myrs, diameters, s=diameters)\n",
    "plt.xlabel('time since impact 0 [Myrs]')\n",
    "plt.ylabel('diameter [km]')\n",
    "plt.show()"
   ]
  },
  {
   "cell_type": "markdown",
   "metadata": {},
   "source": [
    "## 3) Write general mapping function"
   ]
  },
  {
   "cell_type": "code",
   "execution_count": 4,
   "metadata": {},
   "outputs": [],
   "source": [
    "def map_value(value, min_value, max_value, min_result, max_result):\n",
    "    '''maps value (or array of values) from one range to another'''\n",
    "    \n",
    "    result = min_result + (value - min_value)/(max_value - min_value)*(max_result - min_result)\n",
    "    return result\n"
   ]
  },
  {
   "cell_type": "markdown",
   "metadata": {},
   "source": [
    "## 4) Compress time\n",
    "- the MIDI file we create will measure time in beats (quarter notes), not in seconds\n",
    "- we'll set the tempo to 60 bpm so that 1 beat = 1 second so the distinction doesn't matter \n",
    "- for other projects you may want to quantize the data to some fraction of a beat (eigth note = 0.5 beat, etc.) and then be free to change the tempo"
   ]
  },
  {
   "cell_type": "markdown",
   "metadata": {},
   "source": [
    "### option 1: set a conversion factor to compress time"
   ]
  },
  {
   "cell_type": "code",
   "execution_count": 8,
   "metadata": {},
   "outputs": [
    {
     "name": "stdout",
     "output_type": "stream",
     "text": [
      "Duration: 52.8 beats\n"
     ]
    }
   ],
   "source": [
    "myrs_per_beat = 25  #number of Myrs for each beat of music \n",
    "\n",
    "t_data = times_myrs/myrs_per_beat #rescale time from Myrs to beats\n",
    "\n",
    "\n",
    "duration_beats = max(t_data)  #duration in beats (actually, onset of last note)\n",
    "print('Duration:', duration_beats, 'beats')\n",
    "\n"
   ]
  },
  {
   "cell_type": "markdown",
   "metadata": {},
   "source": [
    "### option 2: set a desired duration (in beats)"
   ]
  },
  {
   "cell_type": "code",
   "execution_count": 37,
   "metadata": {},
   "outputs": [
    {
     "name": "stdout",
     "output_type": "stream",
     "text": [
      "Myrs per beat: 25.0\n"
     ]
    }
   ],
   "source": [
    "duration_beats = 52.8 #desired duration in beats (actually, onset of last note)\n",
    "\n",
    "t_data = map_value(times_myrs, 0, max(times_myrs), 0, duration_beats)\n",
    "\n",
    "#or\n",
    "#t_data = map_value(ages, min(ages), max(ages), duration_beats, 0)\n",
    "\n",
    "myrs_per_beat = max(times_myrs)/duration_beats\n",
    "print('Myrs per beat:', myrs_per_beat)"
   ]
  },
  {
   "cell_type": "code",
   "execution_count": 35,
   "metadata": {},
   "outputs": [
    {
     "name": "stdout",
     "output_type": "stream",
     "text": [
      "Duration: 52.8 seconds\n"
     ]
    },
    {
     "data": {
      "image/png": "[encoded data removed]",
      "text/plain": [
       "<Figure size 432x288 with 1 Axes>"
      ]
     },
     "metadata": {
      "needs_background": "light"
     },
     "output_type": "display_data"
    }
   ],
   "source": [
    "#calculate duration in seconds\n",
    "bpm = 60  #if bpm = 60, 1 beat = 1 sec \n",
    "duration_sec = duration_beats*60/bpm #duration in seconds (actually, onset of last note)\n",
    "print('Duration:', duration_sec, 'seconds')\n",
    "\n",
    "\n",
    "plt.scatter(t_data, diameters, s=diameters)\n",
    "plt.xlabel('time [beats]')\n",
    "plt.ylabel('diameter [km]')\n",
    "plt.show()"
   ]
  },
  {
   "cell_type": "markdown",
   "metadata": {},
   "source": [
    "## 4) Normalize and scale data"
   ]
  },
  {
   "cell_type": "code",
   "execution_count": 8,
   "metadata": {},
   "outputs": [
    {
     "data": {
      "image/png": "[encoded data removed]",
      "text/plain": [
       "<Figure size 432x288 with 1 Axes>"
      ]
     },
     "metadata": {
      "needs_background": "light"
     },
     "output_type": "display_data"
    }
   ],
   "source": [
    "\n",
    "y_data = map_value(diameters, min(diameters), max(diameters), 0, 1) #normalize data, so it runs from 0 to 1 \n",
    "\n",
    "y_scale = 0.5  #lower than 1 to spread out more evenly\n",
    "\n",
    "y_data = y_data**y_scale\n",
    "\n",
    "plt.scatter(times_myrs, y_data, s=50*y_data)\n",
    "plt.xlabel('time [Myr]')\n",
    "plt.ylabel('y data [normalized]')\n",
    "plt.show()\n"
   ]
  },
  {
   "cell_type": "markdown",
   "metadata": {},
   "source": [
    "## 6) Choose musical notes for pitch mapping, convert to midi numbers\n",
    "- choose the set of musical notes to map data to (it's common to use a few octaves of a certain scale but you can choose any set of notes you want depending on your goals for the sonification)\n",
    "- the total number of notes sets the pitch resolution, think of this as the number of rows of pixels in an image\n",
    "- these note names are converted to [midi note numbers](https://www.inspiredacoustics.com/en/MIDI_note_numbers_and_center_frequencies ) (integers from 0 to 127, lowest note on piano = A0 = 21, C1 = 24, etc.)\n",
    "\n",
    "<br>\n",
    "<div> <img src=\"figures/midi.png\" alt=\"MIDI Note numbers\" width=\"600\"/></div>\n",
    "<br>\n",
    "\n",
    "(from [Müller, FMP, Springer 2015](https://www.audiolabs-erlangen.de/fau/professor/mueller/bookFMP))"
   ]
  },
  {
   "cell_type": "code",
   "execution_count": 10,
   "metadata": {},
   "outputs": [
    {
     "name": "stdout",
     "output_type": "stream",
     "text": [
      "23 notes\n"
     ]
    }
   ],
   "source": [
    "# 4 octaves of major scale\n",
    "note_names = ['C2','D2','E2','F2','G2','A2','B2',\n",
    "             'C3','D3','E3','F3','G3','A3','B3',\n",
    "             'C4','D4','E4','F4','G4','A4','B4',\n",
    "             'C5','D5','E5','F5','G5','A5','B5']\n",
    "\n",
    "#4 octaves of major pentatonic scale \n",
    "note_names = ['C2','D2','E2','G2','A2',\n",
    "             'C3','D3','E3','G3','A3',\n",
    "             'C4','D4','E4','G4','A4',\n",
    "             'C5','D5','E5','G5','A5']\n",
    "\n",
    "#custom note set (a voicing of a Cmaj13#11 chord, notes from C lydian)\n",
    "note_names = ['C1','C2','G2',\n",
    "             'C3','E3','G3','A3','B3',\n",
    "             'D4','E4','G4','A4','B4',\n",
    "             'D5','E5','G5','A5','B5',\n",
    "             'D6','E6','F#6','G6','A6']\n",
    "\n",
    "note_midis = [str2midi(n) for n in note_names] #make a list of midi note numbers \n",
    "\n",
    "n_notes = len(note_midis)\n",
    "print('Resolution:',n_notes, 'notes')\n"
   ]
  },
  {
   "cell_type": "markdown",
   "metadata": {},
   "source": [
    "## 7) Map data to MIDI note numbers (map larger craters to lower notes)"
   ]
  },
  {
   "cell_type": "code",
   "execution_count": 11,
   "metadata": {},
   "outputs": [
    {
     "data": {
      "image/png": "[encoded data removed]",
      "text/plain": [
       "<Figure size 432x288 with 1 Axes>"
      ]
     },
     "metadata": {
      "needs_background": "light"
     },
     "output_type": "display_data"
    }
   ],
   "source": [
    "midi_data = []\n",
    "for i in range(n_impacts):\n",
    "    note_index = round(map_value(y_data[i], 0, 1, n_notes-1, 0)) #notice choice of polarity: bigger craters are mapped to lower notes\n",
    "                                                        #we round the result because it's a list index which must be an integer\n",
    "    midi_data.append(note_midis[note_index])\n",
    "\n",
    "plt.scatter(t_data, midi_data, s=50*y_data)\n",
    "plt.xlabel('time [beats]')\n",
    "plt.ylabel('midi note numbers')\n",
    "plt.show()\n",
    "\n"
   ]
  },
  {
   "cell_type": "markdown",
   "metadata": {},
   "source": [
    "## 8) Map data to note velocities (map larger craters to greater velocities)\n",
    "- midi velocity (integer from 0-127) is a combination of volume and intensity (hitting a piano key with a larger velocity makes a louder, more intense sound)\n",
    "- we are using the same data to control the note pitch and the note velocity (this is called 'dual coding')"
   ]
  },
  {
   "cell_type": "code",
   "execution_count": 12,
   "metadata": {},
   "outputs": [
    {
     "data": {
      "image/png": "[encoded data removed]",
      "text/plain": [
       "<Figure size 432x288 with 1 Axes>"
      ]
     },
     "metadata": {
      "needs_background": "light"
     },
     "output_type": "display_data"
    }
   ],
   "source": [
    "vel_min,vel_max = 35,127   #minimum and maximum note velocity\n",
    "\n",
    "vel_data = []\n",
    "for i in range(n_impacts):\n",
    "    note_velocity = round(map_value(y_data[i], 0, 1, vel_min, vel_max)) #bigger craters will be louder\n",
    "                                                                #we round here because note velocites are integers\n",
    "    vel_data.append(note_velocity)\n",
    "    \n",
    "plt.scatter(t_data, midi_data, s=vel_data)\n",
    "plt.xlabel('time [beats]')\n",
    "plt.ylabel('midi note numbers')\n",
    "plt.show()"
   ]
  },
  {
   "cell_type": "markdown",
   "metadata": {},
   "source": [
    "## 9) Save data as MIDI file"
   ]
  },
  {
   "cell_type": "code",
   "execution_count": 13,
   "metadata": {},
   "outputs": [],
   "source": [
    "#create midi file object, add tempo\n",
    "my_midi_file = MIDIFile(1) #one track \n",
    "my_midi_file.addTempo(track=0, time=0, tempo=bpm) \n",
    "\n",
    "#add midi notes\n",
    "for i in range(n_impacts):\n",
    "    my_midi_file.addNote(track=0, channel=0, pitch=midi_data[i], time=t_data[i], duration=2, volume=vel_data[i])\n",
    "\n",
    "#create and save the midi file itself\n",
    "with open(filename + '.mid', \"wb\") as f:\n",
    "    my_midi_file.writeFile(f) \n"
   ]
  },
  {
   "cell_type": "markdown",
   "metadata": {},
   "source": [
    "## Optional: Listen to MIDI file within jupyter"
   ]
  },
  {
   "cell_type": "code",
   "execution_count": null,
   "metadata": {},
   "outputs": [],
   "source": [
    "!{sys.executable} -m pip install --quiet \"pygame\"  #install pygame with pip\n",
    "#or use this if you installed python with anaconda\n",
    "#conda install --yes --prefix {sys.prefix} pygame\n",
    "\n",
    "pygame.init()\n",
    "pygame.mixer.music.load(filename + '.mid')\n",
    "pygame.mixer.music.play()\n",
    "\n"
   ]
  },
  {
   "cell_type": "code",
   "execution_count": null,
   "metadata": {},
   "outputs": [],
   "source": [
    "pygame.mixer.music.stop()"
   ]
  },
  {
   "cell_type": "markdown",
   "metadata": {},
   "source": [
    "## Next Steps\n",
    "- open MIDI file in DAW (Digital Audio Workstation) like Logic, Garageband, Ableton, ProTools,...\n",
    "- choose instruments/sounds\n",
    "- add effects and/or other layers\n",
    "- [check out part 2 on Gumroad!](https://astromattrusso.gumroad.com/l/data2music-part2)"
   ]
  },
  {
   "cell_type": "code",
   "execution_count": null,
   "metadata": {},
   "outputs": [],
   "source": []
  }
 ],
 "metadata": {
  "kernelspec": {
   "display_name": "Python 3 (ipykernel)",
   "language": "python",
   "name": "python3"
  },
  "language_info": {
   "codemirror_mode": {
    "name": "ipython",
    "version": 3
   },
   "file_extension": ".py",
   "mimetype": "text/x-python",
   "name": "python",
   "nbconvert_exporter": "python",
   "pygments_lexer": "ipython3",
   "version": "3.10.9"
  }
 },
 "nbformat": 4,
 "nbformat_minor": 4
}
